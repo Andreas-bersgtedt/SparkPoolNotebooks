{
  "metadata": {
    "saveOutput": true,
    "language_info": {
      "name": "python"
    }
  },
  "nbformat": 4,
  "nbformat_minor": 2,
  "cells": [
    {
      "cell_type": "markdown",
      "metadata": {},
      "source": [
        "Notebook Date: 2020-07-15, Author: Andreas Bergstedt\n",
        "# Summary\n",
        "\n",
        "This Notebook is an instruction on how to configure a Spark cluster environment to load external modules and then displays all localy installed libraries using the pip module as per the code frame below.\n",
        "\n",
        "\n",
        "## Available Libraries\n",
        "\n",
        "By default the Azure Synapse Analytics Spark pool has a pre-installed set of libraries to assist common data enginering and analytics tasks,\n",
        "for a list of these please follow the link below.\n",
        "https://docs.microsoft.com/en-us/azure/synapse-analytics/spark/apache-spark-version-support#python-libraries\n",
        "\n",
        "\n",
        "\n",
        "## Installing Additional Libraries\n",
        "\n",
        "As an Apache Spark Admin you are able to import customised environment conforgurations from other IaaS or on premises Spark clusters, this enables you to migrate and clone highly customised development environments to new and existing Apache Spark Pools in Synapse Analytics.\n",
        "A comprehensive list of libraries can bi found at the Python Index page https://pypi.org/\n",
        "\n",
        "\n",
        "### Important\n",
        "\n",
        "- If the package you are installing is large or takes a long time to install, this affects the Spark instance start up time.\n",
        "- Packages which require compiler support at install time, such as GCC, are not supported.\n",
        "- Packages can not be downgraded, only added or upgraded.\n",
        "\n",
        "\n",
        "\n",
        "\n",
        "## Requirements format\n",
        "The following snippet shows the format for the requirements file. The **PyPi** package name is listed along with an exact version. This file follows the format described in the ***pip freeze*** reference documentation. This example pins a specific version.\n",
        "\n",
        "```language\n",
        "absl-py==0.7.0\n",
        "adal==1.2.1\n",
        "alabaster==0.7.1\n",
        "```\n",
        "For more details on this format please visit the following url: https://pip.pypa.io/en/stable/reference/pip_freeze/\n",
        "\n",
        "\n",
        "## Uploading the configuration file\n",
        "\n",
        "Once you have created the environment configuration file this can be uploaded to the relevant Spark Pool using the Manage blade in Synapse studio.\n",
        "for more information on how to do this please visit: https://docs.microsoft.com/en-us/azure/synapse-analytics/spark/apache-spark-azure-portal-add-libraries\n",
        "\n",
        "\n",
        "\n",
        "\n",
        "\n",
        ""
      ],
      "attachments": {}
    },
    {
      "cell_type": "code",
      "execution_count": 4,
      "outputs": [
        {
          "output_type": "execute_result",
          "execution_count": 4,
          "data": {
            "text/plain": "zipp 0.6.0\nzict 1.0.0\nxlwt 1.2.0\nXlsxWriter 0.9.6\nxlrd 1.0.0\nwrapt 1.11.2\nwidgetsnbextension 2.0.0\nwheel 0.30.0\nWerkzeug 0.16.0\nwebsocket-client 0.56.0\nwcwidth 0.1.7\nvega-datasets 0.7.0\nurllib3 1.25.6\nunicodecsv 0.14.1\ntyping-extensions 3.7.4\ntraitlets 4.3.2\ntqdm 4.47.0\ntornado 6.0.3\ntorch 1.3.0\ntoolz 0.10.0\ntestpath 0.3\nterminado 0.6\ntermcolor 1.1.0\ntensorflow 1.14.0\ntensorflow-estimator 1.14.0\ntensorboard 1.14.0\ntblib 1.4.0\ntables 3.3.0\nsympy 1.0\nstatsmodels 0.10.1\nSQLAlchemy 1.1.9\nspyder 3.1.4\nsortedcontainers 2.1.0\nsortedcollections 0.5.3\nsnowballstemmer 1.2.1\nsmart-open 1.8.4\nsklearn-pandas 1.7.0\nskl2onnx 1.4.9\nsix 1.12.0\nsingledispatch 3.4.0.3\nsimplegeneric 0.8.1\nshap 0.34.0\nsetuptools 41.4.0\nSecretStorage 3.1.1\nseaborn 0.9.0\nscipy 1.1.0\nscikit-learn 0.20.3\nscikit-image 0.15.0\ns3transfer 0.2.1\nruamel.yaml 0.15.89\nrope-py3k 0.9.4.post1\nretrying 1.3.3\nResource 0.2.1\nrequests 2.22.0\nrequests-oauthlib 1.2.0\nQtPy 1.2.1\nqtconsole 4.3.0\nQtAwesome 0.4.4\npyzmq 16.0.2\nPyYAML 5.1.2\nPyWavelets 1.0.3\npytz 2019.3\nPython-EasyConfig 0.1.7\npython-dateutil 2.8.0\npytest 3.0.7\npyspark 2.4.4\npyrsistent 0.15.4\npypi 2.1\npyparsing 2.4.2\npyOpenSSL 19.0.0\npyodbc 4.0.16\npymssql 2.1.4\npylint 1.6.4\nPyJWT 1.7.1\nPygments 2.2.0\npygal 2.4.0\npyflakes 2.1.1\npycurl 7.43.0\npyct 0.4.6\npycrypto 2.6.1\npycparser 2.19\npycosat 0.6.2\npycodestyle 2.5.0\npyasn1 0.4.7\npyarrow 0.15.1\npy4j 0.10.7\npy 1.4.33\npy-cpuinfo 7.0.0\nptyprocess 0.5.1\npsutil 5.2.2\nprotobuf 3.10.0\nprompt-toolkit 2.0.10\nportalocker 1.7.0\npmdarima 1.1.1\nply 3.10\nplotly 4.1.1\npip 9.0.1\nPillow 6.2.0\npickleshare 0.7.4\npexpect 4.2.1\npep8 1.7.0\npatsy 0.5.1\npathspec 0.6.0\npathlib2 2.2.1\npartd 1.0.0\nparam 1.9.2\npandocfilters 1.4.1\npandas 0.23.4\npackaging 19.2\nopenpyxl 2.4.7\nonnxruntime 0.4.0\nonnxmltools 1.4.1\nonnxconverter-common 1.5.5\nonnx 1.6.0\nolefile 0.44\nodo 0.5.0\noauthlib 3.1.0\nnumpydoc 0.6.0\nnumpy 1.16.2\nnumexpr 2.6.2\nnumba 0.33.0\nnotebookutils 20200701.5\nnotebook 5.0.0\nnose 1.3.7\nnltk 3.2.3\nnimbusml 1.5.0\nnetworkx 2.3\nndg-httpsclient 0.5.1\nnbformat 4.3.0\nnbconvert 5.1.1\nnavigator-updater 0.1.0\nmultipledispatch 0.4.9\nmultimethods 1.0.0\nmsrestazure 0.6.2\nmsrest 0.6.10\nmsgpack 0.6.2\nmsgpack-python 0.4.8\nmsal 1.4.1\nmsal-extensions 0.1.3\nmpmath 0.19\nmore-itertools 7.2.0\nmmlspark 1.0.0.dev1\nmistune 0.7.4\nmissingno 0.4.2\nmccabe 0.6.1\nmatplotlib 3.1.1\nMarkupSafe 1.1.1\nMarkdown 3.1.1\nlxml 3.7.3\nlocket 0.2.0\nllvmlite 0.18.0\nlightgbm 2.2.3\nliac-arff 2.4.0\nlazy-object-proxy 1.2.2\nkiwisolver 1.1.0\nkeras2onnx 1.5.2\nKeras-Preprocessing 1.1.0\nKeras-Applications 1.0.8\njupyter 1.0.0\njupyter-core 4.3.0\njupyter-console 5.1.0\njupyter-client 5.0.1\nJsonSir 0.0.2\njsonschema 3.1.1\njsonpickle 1.2\nJsonForm 0.0.2\njson-logging-py 0.2\njoblib 0.14.1\njmespath 0.9.4\nJinja2 2.10.3\njeepney 0.4.1\njedi 0.10.2\njdcal 1.3\nitsdangerous 0.24\nisort 4.2.5\nisodate 0.6.0\nipywidgets 6.0.0\nipython 7.8.0\nipython-genutils 0.2.0\nipykernel 4.6.1\ninterpret-core 0.1.21\ninterpret-community 0.10.2\nimportlib-metadata 0.23\nimagesize 0.7.1\nimageio 2.6.1\nidna 2.8\nhyperspace 0.0.1\nhtml5lib 0.999\nHeapDict 1.0.1\nh5py 2.10.0\ngunicorn 19.9.0\ngrpcio 1.24.1\ngreenlet 0.4.12\ngoogle-pasta 0.1.7\ngevent 1.2.1\ngensim 3.8.1\ngast 0.3.2\nfusepy 3.0.1\nfsspec 0.5.2\nFlask 1.0.3\nFlask-Cors 3.0.2\nflake8 3.7.9\nfire 0.2.1\nfastcache 1.0.2\net-xmlfile 1.0.1\nentrypoints 0.3\ndotnetcore2 2.1.14\ndocutils 0.15.2\ndocker 4.1.0\ndistro 1.4.0\ndistributed 1.16.3\ndill 0.3.1.1\ndecorator 4.4.0\ndatashape 0.5.4\ndask 0.14.3\ncytoolz 0.8.2\nCython 0.29.13\ncycler 0.10.0\ncryptography 2.7\ncontextlib2 0.6.0.post1\nconfigparser 3.7.4\ncolorama 0.3.9\nclyent 1.2.2\ncloudpickle 1.2.2\nclick 6.7\nchart-studio 1.0.0\nchardet 3.0.4\ncffi 1.12.3\ncertifi 2019.9.11\nBottleneck 1.2.1\nbotocore 1.12.247\nboto3 1.9.247\nboto 2.49.0\nbokeh 1.3.4\nbleach 1.5.0\nblaze 0.10.1\nbitarray 0.8.1\nbeautifulsoup4 4.6.0\nbackports.weakref 1.0.post1\nbackports.tempfile 1.0\nbackports.shutil-get-terminal-size 1.0.0\nbackcall 0.2.0\nBabel 2.4.0\nazureml-train 1.6.0\nazureml-train-restclients-hyperdrive 1.6.0\nazureml-train-core 1.6.0\nazureml-train-automl 1.6.0\nazureml-train-automl-runtime 1.6.0\nazureml-train-automl-client 1.6.0.post1\nazureml-telemetry 1.6.0\nazureml-sdk 1.6.0\nazureml-pipeline 1.6.0\nazureml-pipeline-steps 1.6.0\nazureml-pipeline-core 1.6.0\nazureml-opendatasets 1.6.0\nazureml-model-management-sdk 1.0.1b6.post1\nazureml-interpret 1.6.0\nazureml-explain-model 1.6.0\nazureml-defaults 1.6.0\nazureml-dataprep 1.6.3\nazureml-dataprep-native 14.1.0\nazureml-core 1.6.0\nazureml-automl-runtime 1.6.0.post1\nazureml-automl-core 1.6.0\nazure-storage-common 2.1.0\nazure-storage-blob 2.1.0\nazure-mgmt-storage 4.2.0\nazure-mgmt-resource 5.1.0\nazure-mgmt-network 10.2.0\nazure-mgmt-keyvault 2.0.0\nazure-mgmt-containerregistry 2.8.0\nazure-mgmt-authorization 0.60.0\nazure-identity 1.2.0\nazure-graphrbac 0.61.1\nazure-core 1.6.0\nazure-common 1.1.23\nattrs 19.2.0\nastropy 1.3.2\nastroid 1.4.9\nastor 0.8.0\nasn1crypto 1.0.1\napplicationinsights 0.11.9\naltair 3.2.0\nalabaster 0.7.10\nadal 1.2.2\nabsl-py 0.8.1\nSphinx 1.5.6"
          },
          "metadata": {}
        }
      ],
      "metadata": {},
      "source": [
        "import pip #needed to use the pip functions\n",
        "\n",
        "for i in pip.get_installed_distributions(local_only=True):\n",
        "    print(i)\n",
        "\n",
        "\n",
        ""
      ],
      "attachments": {}
    }
  ]
}